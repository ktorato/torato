{
 "cells": [
  {
   "cell_type": "markdown",
   "metadata": {},
   "source": [
    "# 4章 制御構造ツール"
   ]
  },
  {
   "cell_type": "markdown",
   "metadata": {},
   "source": [
    "## 4.1 if文"
   ]
  },
  {
   "cell_type": "code",
   "execution_count": 5,
   "metadata": {},
   "outputs": [
    {
     "name": "stdout",
     "output_type": "stream",
     "text": [
      "整数を入れてください:42\n",
      "もっと\n"
     ]
    }
   ],
   "source": [
    "#if文はcase...when...みたいに使うことができる。\n",
    "x=int(input(\"整数を入れてください:\"))\n",
    "if x < 0:\n",
    "    x=0\n",
    "    print('負数はゼロとする')\n",
    "elif x == 0:\n",
    "    print('ゼロ')\n",
    "elif x == 1:\n",
    "    print('ひとつ')\n",
    "else:\n",
    "    print('もっと')"
   ]
  },
  {
   "cell_type": "markdown",
   "metadata": {},
   "source": [
    "## 4.2 for文"
   ]
  },
  {
   "cell_type": "code",
   "execution_count": 13,
   "metadata": {},
   "outputs": [
    {
     "name": "stdout",
     "output_type": "stream",
     "text": [
      "cat 3\n",
      "window 6\n",
      "defenestrate 12\n"
     ]
    }
   ],
   "source": [
    "#シーケンスアイテムに対して、シーケンス内順序で反復をかける\n",
    "words=['cat','window','defenestrate']\n",
    "for w in words:\n",
    "    print(w,len(w))"
   ]
  },
  {
   "cell_type": "code",
   "execution_count": 14,
   "metadata": {},
   "outputs": [],
   "source": [
    "#反復中のシーケンスを改変する際はスライス表記を用いて、スライスコピーに反復をかける。\n",
    "for w in words[:]:\n",
    "    if len (w)>6:\n",
    "        words.insert(0,w)"
   ]
  },
  {
   "cell_type": "code",
   "execution_count": 16,
   "metadata": {},
   "outputs": [
    {
     "data": {
      "text/plain": [
       "['defenestrate', 'cat', 'window', 'defenestrate']"
      ]
     },
     "execution_count": 16,
     "metadata": {},
     "output_type": "execute_result"
    }
   ],
   "source": [
    "words"
   ]
  },
  {
   "cell_type": "markdown",
   "metadata": {},
   "source": [
    "## 4.3 range()関数"
   ]
  },
  {
   "cell_type": "code",
   "execution_count": 17,
   "metadata": {},
   "outputs": [
    {
     "name": "stdout",
     "output_type": "stream",
     "text": [
      "0\n",
      "1\n",
      "2\n",
      "3\n",
      "4\n"
     ]
    }
   ],
   "source": [
    "#数字の連なりに反復をかける際はrange()を用いる range()=等差級数を生成する\n",
    "#与えられた終端はrange()には含まれない。\n",
    "for i in range(5):\n",
    "    print(i)"
   ]
  },
  {
   "cell_type": "code",
   "execution_count": 27,
   "metadata": {},
   "outputs": [
    {
     "name": "stdout",
     "output_type": "stream",
     "text": [
      "5\n",
      "6\n",
      "7\n",
      "8\n",
      "9\n"
     ]
    }
   ],
   "source": [
    "#rangeは0以外からも始められる\n",
    "for i in range(5,10):\n",
    "    print(i)"
   ]
  },
  {
   "cell_type": "code",
   "execution_count": 28,
   "metadata": {},
   "outputs": [
    {
     "name": "stdout",
     "output_type": "stream",
     "text": [
      "0\n",
      "3\n",
      "6\n",
      "9\n"
     ]
    }
   ],
   "source": [
    "#増分(ステップ)を指定することもできる。\n",
    "for j in range(0,10,3):\n",
    "    print(j)"
   ]
  },
  {
   "cell_type": "code",
   "execution_count": 29,
   "metadata": {},
   "outputs": [
    {
     "name": "stdout",
     "output_type": "stream",
     "text": [
      "-10\n",
      "-40\n",
      "-70\n"
     ]
    }
   ],
   "source": [
    "#ステップには-も使える\n",
    "for k in range(-10,-100,-30):\n",
    "    print(k)"
   ]
  },
  {
   "cell_type": "code",
   "execution_count": 33,
   "metadata": {},
   "outputs": [
    {
     "name": "stdout",
     "output_type": "stream",
     "text": [
      "0 Mary\n",
      "1 had\n",
      "2 a\n",
      "3 little\n",
      "4 lamb\n"
     ]
    }
   ],
   "source": [
    "#シーケンスのインデックスで反復をかけたいときはrange()とlen()を組みあわせる\n",
    "#なお、rangeは反復可能体と呼ばれており、ループ時にのみリストのように振る舞う\n",
    "a=['Mary','had','a','little','lamb']\n",
    "for i in range(len(a)):\n",
    "    print(i,a[i])"
   ]
  },
  {
   "cell_type": "markdown",
   "metadata": {},
   "source": [
    "## 4.4 break文とcontinue文、ループにおけるelse"
   ]
  },
  {
   "cell_type": "code",
   "execution_count": 34,
   "metadata": {},
   "outputs": [
    {
     "name": "stdout",
     "output_type": "stream",
     "text": [
      "2 is a prime number\n",
      "3 is a prime number\n",
      "4 equals 2 * 2\n",
      "5 is a prime number\n",
      "6 equals 2 * 3\n",
      "7 is a prime number\n",
      "8 equals 2 * 4\n",
      "9 equals 3 * 3\n"
     ]
    }
   ],
   "source": [
    "#素数探索のプログラム\n",
    "#breakで終了した場合は、elseは実行されない\n",
    "for n in range(2,10):\n",
    "    for x in range(2,n):\n",
    "        if n % x == 0:\n",
    "            print(n,'equals',x,'*',n//x)\n",
    "            break\n",
    "    else:\n",
    "        print(n,'is a prime number')"
   ]
  },
  {
   "cell_type": "code",
   "execution_count": 35,
   "metadata": {},
   "outputs": [
    {
     "name": "stdout",
     "output_type": "stream",
     "text": [
      "Found an even number 2\n",
      "Found a number 3\n",
      "Found an even number 4\n",
      "Found a number 5\n",
      "Found an even number 6\n",
      "Found a number 7\n",
      "Found an even number 8\n",
      "Found a number 9\n"
     ]
    }
   ],
   "source": [
    "#continueも同様にループを終了するが、breakはループを打ち切り、continueはループをスキップする\n",
    "for num in range (2,10):\n",
    "    if num % 2==0:\n",
    "        print(\"Found an even number\",num)\n",
    "        continue\n",
    "    print(\"Found a number\",num)"
   ]
  },
  {
   "cell_type": "markdown",
   "metadata": {},
   "source": [
    "## 4.5 pass文"
   ]
  },
  {
   "cell_type": "code",
   "execution_count": null,
   "metadata": {},
   "outputs": [],
   "source": [
    "#passはただスキップされる 実装する中で取り急ぎ成立させるために記載したりする\n",
    "class MyEmptyClass:\n",
    "    pass"
   ]
  },
  {
   "cell_type": "markdown",
   "metadata": {},
   "source": [
    "## 4.6 関数の定義"
   ]
  },
  {
   "cell_type": "code",
   "execution_count": 40,
   "metadata": {},
   "outputs": [],
   "source": [
    "# def()関数定義の始まり　最初の一文はdocstring コメントとして記載される\n",
    "def fib(n):\n",
    "    \"\"\"nまでのフィボナッチ級数を表示する\"\"\"\n",
    "    a,b=0,1\n",
    "    while a < n:\n",
    "        print(a,end=' ')\n",
    "        a,b = b,a+b\n",
    "    print()"
   ]
  },
  {
   "cell_type": "code",
   "execution_count": 41,
   "metadata": {},
   "outputs": [
    {
     "name": "stdout",
     "output_type": "stream",
     "text": [
      "0 1 1 2 3 5 8 13 21 34 55 89 144 233 377 610 987 1597 \n"
     ]
    }
   ],
   "source": [
    "fib(2000)"
   ]
  },
  {
   "cell_type": "code",
   "execution_count": 46,
   "metadata": {},
   "outputs": [
    {
     "name": "stdout",
     "output_type": "stream",
     "text": [
      "\n",
      "None\n"
     ]
    }
   ],
   "source": [
    "#値が返されない場合でも厳密には関数はnoneを返している\n",
    "print(fib(0))"
   ]
  },
  {
   "cell_type": "code",
   "execution_count": 48,
   "metadata": {},
   "outputs": [],
   "source": [
    "#return は1つの値を返しつつ関数から復帰する（whileループを次に回す)もの\n",
    "#result.appendはresultに対してappendを行う。resultに所属するメソッド\n",
    "def fib2(n):\n",
    "    \"\"\"nまでのフィボナッチ級数からなるリストを返す\"\"\"\n",
    "    result=[]\n",
    "    a,b = 0,1\n",
    "    while a < n :\n",
    "        result.append(a)\n",
    "        a,b = b,a+b\n",
    "    return result"
   ]
  },
  {
   "cell_type": "code",
   "execution_count": 49,
   "metadata": {},
   "outputs": [
    {
     "data": {
      "text/plain": [
       "[0, 1, 1, 2, 3, 5, 8, 13, 21, 34, 55, 89]"
      ]
     },
     "execution_count": 49,
     "metadata": {},
     "output_type": "execute_result"
    }
   ],
   "source": [
    "f100 = fib2(100)\n",
    "f100"
   ]
  },
  {
   "cell_type": "markdown",
   "metadata": {},
   "source": [
    "## 4.7 さらに関数定義について"
   ]
  },
  {
   "cell_type": "code",
   "execution_count": 50,
   "metadata": {},
   "outputs": [],
   "source": [
    "#引数にデフォルト値を設定すれば、設定する関数が少なくてもコールできる\n",
    "def ask_ok(prompt,retries=4,complaint='Yes or no,please'):\n",
    "    while True:\n",
    "        ok = input(prompt)\n",
    "        if ok in ('y','ye','yes'):\n",
    "            return True\n",
    "        if ok in ('n','no','nope'):\n",
    "            return False\n",
    "        retries = retries -1\n",
    "        if retries <0:\n",
    "            raise OSError('非協力的ユーザー')\n",
    "        print(complaint)"
   ]
  },
  {
   "cell_type": "code",
   "execution_count": 51,
   "metadata": {},
   "outputs": [
    {
     "name": "stdout",
     "output_type": "stream",
     "text": [
      "Do you really want to quit?y\n"
     ]
    },
    {
     "data": {
      "text/plain": [
       "True"
      ]
     },
     "execution_count": 51,
     "metadata": {},
     "output_type": "execute_result"
    }
   ],
   "source": [
    "#必須の引数だけを与える\n",
    "ask_ok('Do you really want to quit?')"
   ]
  },
  {
   "cell_type": "code",
   "execution_count": 53,
   "metadata": {},
   "outputs": [
    {
     "name": "stdout",
     "output_type": "stream",
     "text": [
      "OK to overwrite the file?nnnnn\n",
      "Yes or no,please\n",
      "OK to overwrite the file?zzzzzzz\n",
      "Yes or no,please\n",
      "OK to overwrite the file?zzz\n"
     ]
    },
    {
     "ename": "OSError",
     "evalue": "非協力的ユーザー",
     "output_type": "error",
     "traceback": [
      "\u001b[1;31m---------------------------------------------------------------------------\u001b[0m",
      "\u001b[1;31mOSError\u001b[0m                                   Traceback (most recent call last)",
      "\u001b[1;32m<ipython-input-53-75267532ec64>\u001b[0m in \u001b[0;36m<module>\u001b[1;34m\u001b[0m\n\u001b[0;32m      1\u001b[0m \u001b[1;31m#オプション引数を1つ与える\u001b[0m\u001b[1;33m\u001b[0m\u001b[1;33m\u001b[0m\u001b[1;33m\u001b[0m\u001b[0m\n\u001b[1;32m----> 2\u001b[1;33m \u001b[0mask_ok\u001b[0m\u001b[1;33m(\u001b[0m\u001b[1;34m'OK to overwrite the file?'\u001b[0m\u001b[1;33m,\u001b[0m\u001b[1;36m2\u001b[0m\u001b[1;33m)\u001b[0m\u001b[1;33m\u001b[0m\u001b[1;33m\u001b[0m\u001b[0m\n\u001b[0m",
      "\u001b[1;32m<ipython-input-50-a7b427181ae5>\u001b[0m in \u001b[0;36mask_ok\u001b[1;34m(prompt, retries, complaint)\u001b[0m\n\u001b[0;32m      9\u001b[0m         \u001b[0mretries\u001b[0m \u001b[1;33m=\u001b[0m \u001b[0mretries\u001b[0m \u001b[1;33m-\u001b[0m\u001b[1;36m1\u001b[0m\u001b[1;33m\u001b[0m\u001b[1;33m\u001b[0m\u001b[0m\n\u001b[0;32m     10\u001b[0m         \u001b[1;32mif\u001b[0m \u001b[0mretries\u001b[0m \u001b[1;33m<\u001b[0m\u001b[1;36m0\u001b[0m\u001b[1;33m:\u001b[0m\u001b[1;33m\u001b[0m\u001b[1;33m\u001b[0m\u001b[0m\n\u001b[1;32m---> 11\u001b[1;33m             \u001b[1;32mraise\u001b[0m \u001b[0mOSError\u001b[0m\u001b[1;33m(\u001b[0m\u001b[1;34m'非協力的ユーザー'\u001b[0m\u001b[1;33m)\u001b[0m\u001b[1;33m\u001b[0m\u001b[1;33m\u001b[0m\u001b[0m\n\u001b[0m\u001b[0;32m     12\u001b[0m         \u001b[0mprint\u001b[0m\u001b[1;33m(\u001b[0m\u001b[0mcomplaint\u001b[0m\u001b[1;33m)\u001b[0m\u001b[1;33m\u001b[0m\u001b[1;33m\u001b[0m\u001b[0m\n",
      "\u001b[1;31mOSError\u001b[0m: 非協力的ユーザー"
     ]
    }
   ],
   "source": [
    "#オプション引数を1つ与える\n",
    "ask_ok('OK to overwrite the file?',2)"
   ]
  },
  {
   "cell_type": "code",
   "execution_count": 54,
   "metadata": {},
   "outputs": [],
   "source": [
    "#デフォルト値の評価は、関数を定義した時点で、定義を書いたスコープで行われる\n",
    "i = 5\n",
    "def f(arg=i):\n",
    "    print(arg)"
   ]
  },
  {
   "cell_type": "code",
   "execution_count": 55,
   "metadata": {},
   "outputs": [
    {
     "name": "stdout",
     "output_type": "stream",
     "text": [
      "5\n"
     ]
    }
   ],
   "source": [
    "i=6\n",
    "f()"
   ]
  },
  {
   "cell_type": "code",
   "execution_count": 58,
   "metadata": {},
   "outputs": [
    {
     "ename": "TypeError",
     "evalue": "function() got multiple values for argument 'a'",
     "output_type": "error",
     "traceback": [
      "\u001b[1;31m---------------------------------------------------------------------------\u001b[0m",
      "\u001b[1;31mTypeError\u001b[0m                                 Traceback (most recent call last)",
      "\u001b[1;32m<ipython-input-58-f10faa466e36>\u001b[0m in \u001b[0;36m<module>\u001b[1;34m\u001b[0m\n\u001b[0;32m      1\u001b[0m \u001b[1;32mdef\u001b[0m \u001b[0mfunction\u001b[0m\u001b[1;33m(\u001b[0m\u001b[0ma\u001b[0m\u001b[1;33m)\u001b[0m\u001b[1;33m:\u001b[0m\u001b[1;33m\u001b[0m\u001b[1;33m\u001b[0m\u001b[0m\n\u001b[0;32m      2\u001b[0m     \u001b[1;32mpass\u001b[0m\u001b[1;33m\u001b[0m\u001b[1;33m\u001b[0m\u001b[0m\n\u001b[1;32m----> 3\u001b[1;33m \u001b[0mfunction\u001b[0m\u001b[1;33m(\u001b[0m\u001b[1;36m0\u001b[0m\u001b[1;33m,\u001b[0m\u001b[0ma\u001b[0m\u001b[1;33m=\u001b[0m\u001b[1;36m0\u001b[0m\u001b[1;33m)\u001b[0m\u001b[1;33m\u001b[0m\u001b[1;33m\u001b[0m\u001b[0m\n\u001b[0m",
      "\u001b[1;31mTypeError\u001b[0m: function() got multiple values for argument 'a'"
     ]
    }
   ],
   "source": [
    "#引数は一度に1つしか定義できない\n",
    "def function(a):\n",
    "    pass\n",
    "function(0,a=0)"
   ]
  },
  {
   "cell_type": "code",
   "execution_count": 59,
   "metadata": {},
   "outputs": [],
   "source": [
    "#*は通常の複数の引数(通常の引数の形であればディクショナリにあたるもしくは最後まで)を取る\n",
    "#**はディクショナリを複数持つ。*は**の前に無ければならない。\n",
    "#**は表示する前にsortをかませないと表示順が不規則になる\n",
    "def cheeseshop(kind,*arguments,**keywords):\n",
    "    print(\"-- Do you have any\",kind,\"?\")\n",
    "    print(\"-- I'm sorry, we're all out of\", kind)\n",
    "    for arg in arguments:\n",
    "        print(arg)\n",
    "    print(\"-\" * 40)\n",
    "    keys = sorted(keywords.keys())\n",
    "    for kw in keys:\n",
    "        print(kw,\":\",keywords[kw])"
   ]
  },
  {
   "cell_type": "code",
   "execution_count": 64,
   "metadata": {},
   "outputs": [
    {
     "name": "stdout",
     "output_type": "stream",
     "text": [
      "-- Do you have any Limburger ?\n",
      "-- I'm sorry, we're all out of Limburger\n",
      "It's very runny,sir.\n",
      "It's really very,Very runny,sir.\n",
      "----------------------------------------\n",
      "client : John Cleese\n",
      "shopkeeper : Micheal Palin\n",
      "sketch : Cheese Shop Sketch\n",
      "test : test\n"
     ]
    }
   ],
   "source": [
    "cheeseshop(\"Limburger\",\"It's very runny,sir.\",\n",
    "          \"It's really very,Very runny,sir.\",\n",
    "#           test=\"test\",\n",
    "          shopkeeper=\"Micheal Palin\",\n",
    "          client=\"John Cleese\",\n",
    "          sketch=\"Cheese Shop Sketch\")"
   ]
  },
  {
   "cell_type": "code",
   "execution_count": 65,
   "metadata": {},
   "outputs": [],
   "source": [
    "def write_multiple_items(file,separator,*args):\n",
    "    file.write(separator.join(args))"
   ]
  },
  {
   "cell_type": "code",
   "execution_count": 66,
   "metadata": {},
   "outputs": [
    {
     "data": {
      "text/plain": [
       "[3, 4, 5]"
      ]
     },
     "execution_count": 66,
     "metadata": {},
     "output_type": "execute_result"
    }
   ],
   "source": [
    "list(range(3,6))"
   ]
  },
  {
   "cell_type": "code",
   "execution_count": 67,
   "metadata": {},
   "outputs": [],
   "source": [
    "args=[3,6]"
   ]
  },
  {
   "cell_type": "code",
   "execution_count": 68,
   "metadata": {},
   "outputs": [
    {
     "data": {
      "text/plain": [
       "[3, 4, 5]"
      ]
     },
     "execution_count": 68,
     "metadata": {},
     "output_type": "execute_result"
    }
   ],
   "source": [
    "#複数引数の場合は*でコール\n",
    "list(range(*args))"
   ]
  },
  {
   "cell_type": "code",
   "execution_count": 69,
   "metadata": {},
   "outputs": [
    {
     "ename": "TypeError",
     "evalue": "'list' object cannot be interpreted as an integer",
     "output_type": "error",
     "traceback": [
      "\u001b[1;31m---------------------------------------------------------------------------\u001b[0m",
      "\u001b[1;31mTypeError\u001b[0m                                 Traceback (most recent call last)",
      "\u001b[1;32m<ipython-input-69-6d200f28dfab>\u001b[0m in \u001b[0;36m<module>\u001b[1;34m\u001b[0m\n\u001b[1;32m----> 1\u001b[1;33m \u001b[0mlist\u001b[0m\u001b[1;33m(\u001b[0m\u001b[0mrange\u001b[0m\u001b[1;33m(\u001b[0m\u001b[0margs\u001b[0m\u001b[1;33m)\u001b[0m\u001b[1;33m)\u001b[0m\u001b[1;33m\u001b[0m\u001b[1;33m\u001b[0m\u001b[0m\n\u001b[0m",
      "\u001b[1;31mTypeError\u001b[0m: 'list' object cannot be interpreted as an integer"
     ]
    }
   ],
   "source": [
    "list(range(args))"
   ]
  },
  {
   "cell_type": "code",
   "execution_count": 70,
   "metadata": {},
   "outputs": [
    {
     "data": {
      "text/plain": [
       "42"
      ]
     },
     "execution_count": 70,
     "metadata": {},
     "output_type": "execute_result"
    }
   ],
   "source": [
    "#lambdaを使って無名関数を作ることができる 単一の式しか持てないという制限がある\n",
    "def make_incrementor(n):\n",
    "    return lambda x:x+n\n",
    "f = make_incrementor(42)\n",
    "f(0)"
   ]
  },
  {
   "cell_type": "code",
   "execution_count": 72,
   "metadata": {},
   "outputs": [
    {
     "data": {
      "text/plain": [
       "43"
      ]
     },
     "execution_count": 72,
     "metadata": {},
     "output_type": "execute_result"
    }
   ],
   "source": [
    "f(1)"
   ]
  },
  {
   "cell_type": "code",
   "execution_count": 73,
   "metadata": {},
   "outputs": [
    {
     "name": "stdout",
     "output_type": "stream",
     "text": [
      "nまでのフィボナッチ級数を表示する\n"
     ]
    }
   ],
   "source": [
    "#docstringを表示するコード\n",
    "print(fib.__doc__)"
   ]
  },
  {
   "cell_type": "markdown",
   "metadata": {},
   "source": [
    "## 4.8コーディングスタイル\n",
    "インデントはスペース4つとし、タブは使わない（混乱の下だから\n",
    "\n",
    "可能であればコメントは独立させる\n",
    "\n",
    "docstringを使う\n",
    "\n",
    "演算子の周囲やカンマの後ろにはスペースをいれるが、カッコのすぐ内側に入れない\n",
    "\n",
    "クラスや関数には一貫した命名を行う\n",
    "\n",
    "    -クラスには単語の頭文字を大文字にしてつなぐスタイル\n",
    "    -関数やメソッドには小文字の単語動詞をアンダースコアでつなぐ\n",
    "    -メソッドの第一引数には常にselfを使うようにする\n",
    "    \n",
    "文字コードはUTF-8 ASCII\n",
    "\n",
    "識別子に非ASCIIはやめよう"
   ]
  },
  {
   "cell_type": "code",
   "execution_count": null,
   "metadata": {},
   "outputs": [],
   "source": []
  }
 ],
 "metadata": {
  "kernelspec": {
   "display_name": "Python 3",
   "language": "python",
   "name": "python3"
  },
  "language_info": {
   "codemirror_mode": {
    "name": "ipython",
    "version": 3
   },
   "file_extension": ".py",
   "mimetype": "text/x-python",
   "name": "python",
   "nbconvert_exporter": "python",
   "pygments_lexer": "ipython3",
   "version": "3.7.4"
  }
 },
 "nbformat": 4,
 "nbformat_minor": 2
}
