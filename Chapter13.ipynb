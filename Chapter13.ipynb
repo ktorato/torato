{
 "cells": [
  {
   "cell_type": "markdown",
   "metadata": {},
   "source": [
    "# 13章 次はなに？"
   ]
  },
  {
   "cell_type": "markdown",
   "metadata": {},
   "source": [
    "#### The Python Standard Library\n",
    "標準ライブラリに関するリファレンス\n",
    "\n",
    "#### Installing Python Modules\n",
    "他のユーザーが書いた追加モジュールのインストール方法が解説してある。\n",
    "\n",
    "#### The Python Language Reference\n",
    "Pythonの構文等に関する詳細な解説\n",
    "\n",
    "#### python.org\n",
    "Pythonのメインサイト   https://www.python.org\n",
    "\n",
    "#### Python documentation\n",
    "Pythonドキュメント   https://docs.python.org/ja/\n",
    "\n",
    "#### PYPI\n",
    "ユーザー作でDL可能なモジュールの目録 https://pypi.python.org\n",
    "\n",
    "#### Python Cookbook\n",
    "コード例等の巨大コレクション http://code.activestate.com/recipes/langs/python/\n",
    "<br>\n",
    "「Pythonクックブック」というオライリーの書籍に重要なものはまとめられている\n",
    "\n",
    "#### pyvideo.org\n",
    "カンファレンスやグループミーティングなどの映像へのリンク    http://www.pyvideo.org\n",
    "\n",
    "#### Scientific Pythonプロジェクト\n",
    "線形代数やソルバ、統計分析などのパッケージがある http://scipy.org\n",
    "\n",
    "#### FAQ\n",
    "https://docs.python.org/3/faq/"
   ]
  }
 ],
 "metadata": {
  "kernelspec": {
   "display_name": "Python 3",
   "language": "python",
   "name": "python3"
  },
  "language_info": {
   "codemirror_mode": {
    "name": "ipython",
    "version": 3
   },
   "file_extension": ".py",
   "mimetype": "text/x-python",
   "name": "python",
   "nbconvert_exporter": "python",
   "pygments_lexer": "ipython3",
   "version": "3.7.4"
  }
 },
 "nbformat": 4,
 "nbformat_minor": 2
}
