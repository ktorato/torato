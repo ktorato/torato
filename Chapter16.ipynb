{
 "cells": [
  {
   "cell_type": "markdown",
   "metadata": {},
   "source": [
    "# 16章補遺"
   ]
  },
  {
   "cell_type": "markdown",
   "metadata": {},
   "source": [
    "## 16.1 対話モード\n",
    "\n",
    "#### 16.1.1 エラー処理\n",
    "KeyBoardInterruptエラーを発生させるにはCtrl +C もしくはDeleteを押下する。\n",
    "\n",
    "#### 16.1.2 実行可能なPythonスクリプト\n",
    "Windowsには実行可能モードは存在しない\n",
    "\n",
    "#### 16.1.3 対話環境のスタートアップファイル\n",
    "対話セッション用スタートアップファイルをスクリプトから使うには以下を実行"
   ]
  },
  {
   "cell_type": "code",
   "execution_count": null,
   "metadata": {},
   "outputs": [],
   "source": [
    "import os\n",
    "filename = os.environ.get('PYTHONSTARTUP')\n",
    "if filename and os.path.isfile(filename):\n",
    "    with open(filename) as fobj:\n",
    "        startup_file = fobj.read()\n",
    "    exec(startup_file)"
   ]
  },
  {
   "cell_type": "code",
   "execution_count": 1,
   "metadata": {},
   "outputs": [
    {
     "data": {
      "text/plain": [
       "'C:\\\\Users\\\\ktorato\\\\AppData\\\\Roaming\\\\Python\\\\Python37\\\\site-packages'"
      ]
     },
     "execution_count": 1,
     "metadata": {},
     "output_type": "execute_result"
    }
   ],
   "source": [
    "#16.1.4 モジュール構成のカスタマイズ\n",
    "#site-packagesのディレクトリを表示する\n",
    "#このディレクトリにusercustomize.pyというファイルを作ると、Python起動時に必ず実行される。\n",
    "import site\n",
    "site.getusersitepackages()"
   ]
  }
 ],
 "metadata": {
  "kernelspec": {
   "display_name": "Python 3",
   "language": "python",
   "name": "python3"
  },
  "language_info": {
   "codemirror_mode": {
    "name": "ipython",
    "version": 3
   },
   "file_extension": ".py",
   "mimetype": "text/x-python",
   "name": "python",
   "nbconvert_exporter": "python",
   "pygments_lexer": "ipython3",
   "version": "3.7.4"
  }
 },
 "nbformat": 4,
 "nbformat_minor": 2
}
