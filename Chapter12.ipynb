{
 "cells": [
  {
   "cell_type": "markdown",
   "metadata": {},
   "source": [
    "# 12章 仮想環境とパッケージ"
   ]
  },
  {
   "cell_type": "markdown",
   "metadata": {},
   "source": [
    "## 12.1 イントロダクション\n",
    "異なるバージョンが必要な要求に対応するために、仮想環境を構築することができる"
   ]
  },
  {
   "cell_type": "markdown",
   "metadata": {},
   "source": [
    "## 12.2 仮想環境の生成\n",
    "仮想環境を生成、管理するスクリプトはpyvenv\n",
    "<br>\n",
    "通常は最新のPythonをインストールすることができるが、pyvenv-3.4のように実行することでバージョンを選択可能"
   ]
  },
  {
   "cell_type": "code",
   "execution_count": 8,
   "metadata": {},
   "outputs": [
    {
     "ename": "SyntaxError",
     "evalue": "invalid syntax (<ipython-input-8-96114b69de5a>, line 3)",
     "output_type": "error",
     "traceback": [
      "\u001b[1;36m  File \u001b[1;32m\"<ipython-input-8-96114b69de5a>\"\u001b[1;36m, line \u001b[1;32m3\u001b[0m\n\u001b[1;33m    python3 -m venv C:\\\\Python\\\\03_Python_Tutorial\u001b[0m\n\u001b[1;37m                  ^\u001b[0m\n\u001b[1;31mSyntaxError\u001b[0m\u001b[1;31m:\u001b[0m invalid syntax\n"
     ]
    }
   ],
   "source": [
    "#virtualenvを生成するには、仮想環境を置きたいディレクトリに移動し、pyvenvに仮想環境のディレクトリ名を付けて実行\n",
    "#python3.6で非推奨となったため、代わりに python3 -m venvを使うと良い\n",
    "#それでもエラー・・・・謎　仮想環境が使えることだけ覚えておく。\n",
    "python3 -m venv C:\\\\Python\\\\03_Python_Tutorial"
   ]
  },
  {
   "cell_type": "code",
   "execution_count": 9,
   "metadata": {},
   "outputs": [],
   "source": [
    "#生成した仮想環境はアクティベートする必要がある。\n",
    "tutorial-env/Scripts/activate"
   ]
  },
  {
   "cell_type": "markdown",
   "metadata": {},
   "source": [
    "## 12.3 pipによるパッケージ管理\n",
    "pipというプログラムをつかって仮想環境へのインストール等が可能\n",
    "<br>\n",
    "pipにはsearch,install,uninstall,freezeなどのコマンドがある\n",
    "<br>\n",
    "pip install--upgradeとすることで最新版にすることができる\n",
    "<br>\n",
    "pip show パッケージ名でパッケージの情報を表示することができる\n",
    "<br>\n",
    "pip listでインストールされた全てのパッケージを表示する"
   ]
  }
 ],
 "metadata": {
  "kernelspec": {
   "display_name": "Python 3",
   "language": "python",
   "name": "python3"
  },
  "language_info": {
   "codemirror_mode": {
    "name": "ipython",
    "version": 3
   },
   "file_extension": ".py",
   "mimetype": "text/x-python",
   "name": "python",
   "nbconvert_exporter": "python",
   "pygments_lexer": "ipython3",
   "version": "3.7.4"
  }
 },
 "nbformat": 4,
 "nbformat_minor": 2
}
