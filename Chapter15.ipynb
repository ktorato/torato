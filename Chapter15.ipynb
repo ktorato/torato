{
 "cells": [
  {
   "cell_type": "markdown",
   "metadata": {},
   "source": [
    "# 15章 浮動小数点の演算：その問題と限界\n",
    "10進数の浮動小数点は、実際には2進数の浮動小数点による最近傍代表値として格納される。"
   ]
  },
  {
   "cell_type": "code",
   "execution_count": 1,
   "metadata": {},
   "outputs": [
    {
     "data": {
      "text/plain": [
       "False"
      ]
     },
     "execution_count": 1,
     "metadata": {},
     "output_type": "execute_result"
    }
   ],
   "source": [
    ".1 + .1 + .1 == .3\n",
    "#どうしても精緻に出したいのであればdecimalを使う"
   ]
  },
  {
   "cell_type": "markdown",
   "metadata": {},
   "source": [
    "## 15.1 表現誤差\n",
    "表現誤差は上記の通り、10進数と2進数の表現方法による誤差であり、これはPerlやC++でも発生するが、実務上は問題ないことが多い"
   ]
  }
 ],
 "metadata": {
  "kernelspec": {
   "display_name": "Python 3",
   "language": "python",
   "name": "python3"
  },
  "language_info": {
   "codemirror_mode": {
    "name": "ipython",
    "version": 3
   },
   "file_extension": ".py",
   "mimetype": "text/x-python",
   "name": "python",
   "nbconvert_exporter": "python",
   "pygments_lexer": "ipython3",
   "version": "3.7.4"
  }
 },
 "nbformat": 4,
 "nbformat_minor": 2
}
